{
 "cells": [
  {
   "cell_type": "code",
   "execution_count": 1,
   "metadata": {},
   "outputs": [],
   "source": [
    "# import numpy as np\n",
    "import numpy as np\n",
    "import ipyvolume as ipv\n",
    "\n",
    "sideLength=5\n",
    "stepSize=1/sideLength\n",
    "\n",
    "oS=np.zeros((sideLength,sideLength,sideLength))\n",
    "\n",
    "oS\n",
    "\n",
    "xi=0\n",
    "while xi<oS.shape[0]:\n",
    "    yi=0\n",
    "    while yi<oS.shape[1]:\n",
    "        zi=0\n",
    "        while zi<oS.shape[2]:\n",
    "    #        print(xi)\n",
    "    #        print(np.sin(np.pi/2))\n",
    "           \n",
    "            oS[xi,yi,zi]=np.abs(np.sin(np.pi*6*(xi*stepSize)*(yi*stepSize)*(zi*stepSize)))\n",
    "    #        print(np.sin(np.pi/2*stepSize*xi*yi*zi))\n",
    "    #        print(oS[xi,yi,zi])\n",
    "            zi+=1\n",
    "        \n",
    "        yi+=1\n",
    "        \n",
    "    \n",
    "    xi+=1\n"
   ]
  },
  {
   "cell_type": "code",
   "execution_count": 2,
   "metadata": {},
   "outputs": [
    {
     "name": "stderr",
     "output_type": "stream",
     "text": [
      "c:\\program files (x86)\\python38-32\\lib\\site-packages\\ipyvolume\\serialize.py:81: RuntimeWarning: invalid value encountered in true_divide\n",
      "  gradient = gradient / np.sqrt(gradient[0]**2 + gradient[1]**2 + gradient[2]**2)\n"
     ]
    },
    {
     "data": {
      "application/vnd.jupyter.widget-view+json": {
       "model_id": "953601a06f1a4a76adc86f78072c617c",
       "version_major": 2,
       "version_minor": 0
      },
      "text/plain": [
       "VBox(children=(VBox(children=(HBox(children=(Label(value='levels:'), FloatSlider(value=0.25, max=1.0, step=0.0…"
      ]
     },
     "metadata": {},
     "output_type": "display_data"
    }
   ],
   "source": [
    "\n",
    "\n",
    "\n",
    "ipv.figure()\n",
    "ipv.volshow(oS, level=[0.25, 0.75], opacity=0.03, level_width=0.1, data_min=0, data_max=1)\n",
    "ipv.view(-30, 40)\n",
    "ipv.show()\n"
   ]
  },
  {
   "cell_type": "code",
   "execution_count": 3,
   "metadata": {},
   "outputs": [],
   "source": [
    "import scipy.fft as fft\n",
    "\n",
    "fS=fft.fft(oS)\n",
    "print(fS)"
   ]
  },
  {
   "cell_type": "code",
   "execution_count": null,
   "metadata": {},
   "outputs": [],
   "source": []
  }
 ],
 "metadata": {
  "kernelspec": {
   "display_name": "Python 3",
   "language": "python",
   "name": "python3"
  },
  "language_info": {
   "codemirror_mode": {
    "name": "ipython",
    "version": 3
   },
   "file_extension": ".py",
   "mimetype": "text/x-python",
   "name": "python",
   "nbconvert_exporter": "python",
   "pygments_lexer": "ipython3",
   "version": "3.8.1"
  }
 },
 "nbformat": 4,
 "nbformat_minor": 4
}
